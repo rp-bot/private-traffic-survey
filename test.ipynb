{
 "cells": [
  {
   "cell_type": "code",
   "execution_count": 2,
   "metadata": {},
   "outputs": [
    {
     "ename": "RuntimeError",
     "evalue": "Algorithm infer_detectron2_deeplabv3plus is installed locally but not functional. Check your code or your Python environment please.",
     "output_type": "error",
     "traceback": [
      "\u001b[1;31m---------------------------------------------------------------------------\u001b[0m",
      "\u001b[1;31mRuntimeError\u001b[0m                              Traceback (most recent call last)",
      "File \u001b[1;32mc:\\Users\\RP Bot\\.virtualenvs\\private-traffic-survey-PuBR8yeY\\lib\\site-packages\\ikomia\\dataprocess\\registry.py:161\u001b[0m, in \u001b[0;36mIkomiaRegistry.create_algorithm\u001b[1;34m(self, name, parameters, public_hub, private_hub)\u001b[0m\n\u001b[0;32m    160\u001b[0m algo_dir, language \u001b[38;5;241m=\u001b[39m \u001b[38;5;28mself\u001b[39m\u001b[38;5;241m.\u001b[39m_get_algorithm_directory(name)\n\u001b[1;32m--> 161\u001b[0m \u001b[38;5;28;43mself\u001b[39;49m\u001b[38;5;241;43m.\u001b[39;49m\u001b[43m_load_algorithm\u001b[49m\u001b[43m(\u001b[49m\u001b[43mname\u001b[49m\u001b[43m,\u001b[49m\u001b[43m \u001b[49m\u001b[43malgo_dir\u001b[49m\u001b[43m,\u001b[49m\u001b[43m \u001b[49m\u001b[43mlanguage\u001b[49m\u001b[43m)\u001b[49m\n\u001b[0;32m    162\u001b[0m algo \u001b[38;5;241m=\u001b[39m \u001b[38;5;28mself\u001b[39m\u001b[38;5;241m.\u001b[39mcreate_instance(name, parameters)\n",
      "File \u001b[1;32mc:\\Users\\RP Bot\\.virtualenvs\\private-traffic-survey-PuBR8yeY\\lib\\site-packages\\ikomia\\dataprocess\\registry.py:321\u001b[0m, in \u001b[0;36mIkomiaRegistry._load_algorithm\u001b[1;34m(self, name, directory, language)\u001b[0m\n\u001b[0;32m    320\u001b[0m \u001b[38;5;28;01mif\u001b[39;00m language \u001b[38;5;241m==\u001b[39m utils\u001b[38;5;241m.\u001b[39mApiLanguage\u001b[38;5;241m.\u001b[39mPYTHON:\n\u001b[1;32m--> 321\u001b[0m     \u001b[38;5;28;43mself\u001b[39;49m\u001b[38;5;241;43m.\u001b[39;49m\u001b[43mload_python_algorithm\u001b[49m\u001b[43m(\u001b[49m\u001b[43mdirectory\u001b[49m\u001b[43m)\u001b[49m\n\u001b[0;32m    322\u001b[0m \u001b[38;5;28;01melif\u001b[39;00m language \u001b[38;5;241m==\u001b[39m utils\u001b[38;5;241m.\u001b[39mApiLanguage\u001b[38;5;241m.\u001b[39mCPP:\n",
      "\u001b[1;31mRuntimeError\u001b[0m: Algorithm infer_detectron2_deeplabv3plus could not be loaded:<class 'AttributeError'>: module 'torch' has no attribute 'SymInt':   File \"C:\\Users\\RP Bot\\Ikomia/Plugins/Python\\infer_detectron2_deeplabv3plus\\infer_detectron2_deeplabv3plus_process.py\", line 6, in <module>\n    from detectron2.modeling import build_model\n\n  File \"c:\\Users\\RP Bot\\.virtualenvs\\private-traffic-survey-PuBR8yeY\\lib\\site-packages\\detectron2\\modeling\\__init__.py\", line 2, in <module>\n    from detectron2.layers import ShapeSpec\n\n  File \"c:\\Users\\RP Bot\\.virtualenvs\\private-traffic-survey-PuBR8yeY\\lib\\site-packages\\detectron2\\layers\\__init__.py\", line 3, in <module>\n    from .deform_conv import DeformConv, ModulatedDeformConv\n\n  File \"c:\\Users\\RP Bot\\.virtualenvs\\private-traffic-survey-PuBR8yeY\\lib\\site-packages\\detectron2\\layers\\deform_conv.py\", line 9, in <module>\n    from torchvision.ops import deform_conv2d\n\n  File \"c:\\Users\\RP Bot\\.virtualenvs\\private-traffic-survey-PuBR8yeY\\lib\\site-packages\\torchvision\\__init__.py\", line 6, in <module>\n    from torchvision import _meta_registrations, datasets, io, models, ops, transforms, utils\n\n  File \"c:\\Users\\RP Bot\\.virtualenvs\\private-traffic-survey-PuBR8yeY\\lib\\site-packages\\torchvision\\_meta_registrations.py\", line 4, in <module>\n    import torch._custom_ops\n\n  File \"c:\\Users\\RP Bot\\.virtualenvs\\private-traffic-survey-PuBR8yeY\\lib\\site-packages\\torch\\_custom_ops.py\", line 3, in <module>\n    from torch._custom_op.impl import (\n\n  File \"c:\\Users\\RP Bot\\.virtualenvs\\private-traffic-survey-PuBR8yeY\\lib\\site-packages\\torch\\_custom_op\\impl.py\", line 13, in <module>\n    from torch._library.abstract_impl import AbstractImplCtx\n\n  File \"c:\\Users\\RP Bot\\.virtualenvs\\private-traffic-survey-PuBR8yeY\\lib\\site-packages\\torch\\_library\\__init__.py\", line 1, in <module>\n    import torch._library.abstract_impl\n\n  File \"c:\\Users\\RP Bot\\.virtualenvs\\private-traffic-survey-PuBR8yeY\\lib\\site-packages\\torch\\_library\\abstract_impl.py\", line 117, in <module>\n    class AbstractImplCtx:\n\n  File \"c:\\Users\\RP Bot\\.virtualenvs\\private-traffic-survey-PuBR8yeY\\lib\\site-packages\\torch\\_library\\abstract_impl.py\", line 126, in AbstractImplCtx\n    def create_unbacked_symint(self, *, min=2, max=None) -> torch.SymInt:\n (Code 9)",
      "\nDuring handling of the above exception, another exception occurred:\n",
      "\u001b[1;31mRuntimeError\u001b[0m                              Traceback (most recent call last)",
      "Cell \u001b[1;32mIn[2], line 11\u001b[0m\n\u001b[0;32m      8\u001b[0m wf \u001b[38;5;241m=\u001b[39m Workflow()\n\u001b[0;32m     10\u001b[0m \u001b[38;5;66;03m# Add the Deeplab algorithm\u001b[39;00m\n\u001b[1;32m---> 11\u001b[0m deeplab \u001b[38;5;241m=\u001b[39m \u001b[43mwf\u001b[49m\u001b[38;5;241;43m.\u001b[39;49m\u001b[43madd_task\u001b[49m\u001b[43m(\u001b[49m\u001b[43mname\u001b[49m\u001b[38;5;241;43m=\u001b[39;49m\u001b[38;5;124;43m\"\u001b[39;49m\u001b[38;5;124;43minfer_detectron2_deeplabv3plus\u001b[39;49m\u001b[38;5;124;43m\"\u001b[39;49m\u001b[43m,\u001b[49m\u001b[43m \u001b[49m\u001b[43mauto_connect\u001b[49m\u001b[38;5;241;43m=\u001b[39;49m\u001b[38;5;28;43;01mTrue\u001b[39;49;00m\u001b[43m)\u001b[49m\n\u001b[0;32m     12\u001b[0m deeplab\u001b[38;5;241m.\u001b[39mset_parameters({\u001b[38;5;124m\"\u001b[39m\u001b[38;5;124mdataset\u001b[39m\u001b[38;5;124m\"\u001b[39m: \u001b[38;5;124m\"\u001b[39m\u001b[38;5;124mCityscapes\u001b[39m\u001b[38;5;124m\"\u001b[39m})\n",
      "File \u001b[1;32mc:\\Users\\RP Bot\\.virtualenvs\\private-traffic-survey-PuBR8yeY\\lib\\site-packages\\ikomia\\dataprocess\\workflow.py:277\u001b[0m, in \u001b[0;36mWorkflow.add_task\u001b[1;34m(self, task, name, params, auto_connect, public_hub, private_hub)\u001b[0m\n\u001b[0;32m    274\u001b[0m     \u001b[38;5;28;01mraise\u001b[39;00m \u001b[38;5;167;01mRuntimeError\u001b[39;00m(\u001b[38;5;124m\"\u001b[39m\u001b[38;5;124mUnable to add task to workflow: parameters must include either a valid name or task instance.\u001b[39m\u001b[38;5;124m\"\u001b[39m)\n\u001b[0;32m    276\u001b[0m \u001b[38;5;28;01mif\u001b[39;00m task \u001b[38;5;129;01mis\u001b[39;00m \u001b[38;5;28;01mNone\u001b[39;00m:\n\u001b[1;32m--> 277\u001b[0m     task \u001b[38;5;241m=\u001b[39m \u001b[38;5;28;43mself\u001b[39;49m\u001b[38;5;241;43m.\u001b[39;49m\u001b[43mregistry\u001b[49m\u001b[38;5;241;43m.\u001b[39;49m\u001b[43mcreate_algorithm\u001b[49m\u001b[43m(\u001b[49m\u001b[43mname\u001b[49m\u001b[38;5;241;43m=\u001b[39;49m\u001b[43mname\u001b[49m\u001b[43m,\u001b[49m\n\u001b[0;32m    278\u001b[0m \u001b[43m                                          \u001b[49m\u001b[43mparameters\u001b[49m\u001b[38;5;241;43m=\u001b[39;49m\u001b[38;5;28;43;01mNone\u001b[39;49;00m\u001b[43m,\u001b[49m\n\u001b[0;32m    279\u001b[0m \u001b[43m                                          \u001b[49m\u001b[43mpublic_hub\u001b[49m\u001b[38;5;241;43m=\u001b[39;49m\u001b[43mpublic_hub\u001b[49m\u001b[43m,\u001b[49m\n\u001b[0;32m    280\u001b[0m \u001b[43m                                          \u001b[49m\u001b[43mprivate_hub\u001b[49m\u001b[38;5;241;43m=\u001b[39;49m\u001b[43mprivate_hub\u001b[49m\u001b[43m)\u001b[49m\n\u001b[0;32m    281\u001b[0m     \u001b[38;5;28;01mif\u001b[39;00m task \u001b[38;5;129;01mis\u001b[39;00m \u001b[38;5;28;01mNone\u001b[39;00m:\n\u001b[0;32m    282\u001b[0m         \u001b[38;5;28;01mraise\u001b[39;00m \u001b[38;5;167;01mRuntimeError\u001b[39;00m(\u001b[38;5;124mf\u001b[39m\u001b[38;5;124m\"\u001b[39m\u001b[38;5;124mAlgorithm \u001b[39m\u001b[38;5;132;01m{\u001b[39;00mname\u001b[38;5;132;01m}\u001b[39;00m\u001b[38;5;124m can\u001b[39m\u001b[38;5;124m'\u001b[39m\u001b[38;5;124mt be created.\u001b[39m\u001b[38;5;124m\"\u001b[39m)\n",
      "File \u001b[1;32mc:\\Users\\RP Bot\\.virtualenvs\\private-traffic-survey-PuBR8yeY\\lib\\site-packages\\ikomia\\dataprocess\\registry.py:174\u001b[0m, in \u001b[0;36mIkomiaRegistry.create_algorithm\u001b[1;34m(self, name, parameters, public_hub, private_hub)\u001b[0m\n\u001b[0;32m    170\u001b[0m             algo \u001b[38;5;241m=\u001b[39m \u001b[38;5;28mself\u001b[39m\u001b[38;5;241m.\u001b[39mcreate_instance(name, parameters)\n\u001b[0;32m    171\u001b[0m         \u001b[38;5;28;01melse\u001b[39;00m:\n\u001b[0;32m    172\u001b[0m             \u001b[38;5;66;03m# If algorithm is installed locally but not functional (algo_dir is not empty), it may be a plugin\u001b[39;00m\n\u001b[0;32m    173\u001b[0m             \u001b[38;5;66;03m# in developpement and we should not overwrite it with the Ikomia Hub version\u001b[39;00m\n\u001b[1;32m--> 174\u001b[0m             \u001b[38;5;28;01mraise\u001b[39;00m \u001b[38;5;167;01mRuntimeError\u001b[39;00m(\u001b[38;5;124mf\u001b[39m\u001b[38;5;124m\"\u001b[39m\u001b[38;5;124mAlgorithm \u001b[39m\u001b[38;5;132;01m{\u001b[39;00mname\u001b[38;5;132;01m}\u001b[39;00m\u001b[38;5;124m is installed locally but not functional. \u001b[39m\u001b[38;5;124m\"\u001b[39m\n\u001b[0;32m    175\u001b[0m                                \u001b[38;5;124mf\u001b[39m\u001b[38;5;124m\"\u001b[39m\u001b[38;5;124mCheck your code or your Python environment please.\u001b[39m\u001b[38;5;124m\"\u001b[39m)\n\u001b[0;32m    177\u001b[0m \u001b[38;5;28;01mreturn\u001b[39;00m algo\n",
      "\u001b[1;31mRuntimeError\u001b[0m: Algorithm infer_detectron2_deeplabv3plus is installed locally but not functional. Check your code or your Python environment please."
     ]
    }
   ],
   "source": [
    "from ikomia.dataprocess.workflow import Workflow\n",
    "from ikomia.utils.displayIO import display\n",
    "\n",
    "from PIL import ImageShow\n",
    "ImageShow.register(ImageShow.IPythonViewer(), 0)\n",
    "\n",
    "# Init your workflow\n",
    "wf = Workflow()\n",
    "\n",
    "# Add the Deeplab algorithm\n",
    "deeplab = wf.add_task(name=\"infer_detectron2_deeplabv3plus\", auto_connect=True)\n",
    "deeplab.set_parameters({\"dataset\": \"Cityscapes\"})"
   ]
  },
  {
   "cell_type": "code",
   "execution_count": null,
   "metadata": {},
   "outputs": [],
   "source": []
  }
 ],
 "metadata": {
  "kernelspec": {
   "display_name": "private-traffic-survey-PuBR8yeY",
   "language": "python",
   "name": "python3"
  },
  "language_info": {
   "codemirror_mode": {
    "name": "ipython",
    "version": 3
   },
   "file_extension": ".py",
   "mimetype": "text/x-python",
   "name": "python",
   "nbconvert_exporter": "python",
   "pygments_lexer": "ipython3",
   "version": "3.10.10"
  }
 },
 "nbformat": 4,
 "nbformat_minor": 2
}
